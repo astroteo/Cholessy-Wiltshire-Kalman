{
 "cells": [
  {
   "cell_type": "code",
   "execution_count": 66,
   "metadata": {},
   "outputs": [],
   "source": [
    "import numpy as np\n",
    "import scipy.io as scyIO \n",
    "import os"
   ]
  },
  {
   "cell_type": "code",
   "execution_count": 4,
   "metadata": {},
   "outputs": [],
   "source": [
    "# Define constants \n",
    "Ts = 0.01\n",
    "gravity = 9.81\n",
    "\n",
    "dt = Ts"
   ]
  },
  {
   "cell_type": "code",
   "execution_count": 32,
   "metadata": {},
   "outputs": [],
   "source": [
    "def q2dcm(q,_raw = False):\n",
    "    \n",
    "   #Function for transformation from quaternions to directional cosine matrix\n",
    "   #Farell pp.41\n",
    "   #Edit: MAtteo\n",
    "\n",
    "    qx = float(q[0])\n",
    "    qy = float(q[1])\n",
    "    qz = float(q[2])\n",
    "    qw = float(q[3])\n",
    "    \n",
    "    if _raw:\n",
    "        DCM = np.array([[1 - 2*qy**2 - 2*qz**2,2*qx*qy - 2*qz*qw,2*qx*qz + 2*qy*qw],\n",
    "                        [2*qx*qy + 2*qz*qw,1 - 2*qx**2 - 2*qz**2,2*qy*qz - 2*qx*qw],\n",
    "                        [2*qx*qz - 2*qy*qw,2*qy*qz + 2*qx*qw,1 - 2*qx**2 - 2*qy**2]\n",
    "                        ])#.T ????\n",
    "    else:\n",
    "        p = np.array([qx**2,qy**2,qz**2,qw**2,qy + qz,0])\n",
    "        \n",
    "        if p[0]+p[3]+p[4] <= -1e12 or p[0]+p[3]+p[4] >= -1e12:\n",
    "            p[5]=2/(p[0] + p[3]+p[4]) \n",
    "        else:\n",
    "            p[5]=0\n",
    "    \n",
    "        DCM =np.zeros((3,3))\n",
    "        \n",
    "        DCM[0,0] = 1 - p[5] * p[4]\n",
    "        DCM[1,1] = 1 - p[5] * (p[0]+p[2])\n",
    "        DCM[2,2] = 1 - p[5] * (p[0]+p[1])\n",
    "        \n",
    "        p[0] = p[5] * q[0]; \n",
    "        p[1] = p[5] * q[1];\n",
    "        p[4] = p[5] * q[2] * q[3];\n",
    "        p[5] = p[0] * q[1];\n",
    "        \n",
    "        \n",
    "        DCM[0,1] = p[5] - p[4];\n",
    "        DCM[1,0] = p[5] + p[4];\n",
    "        \n",
    "        p[4] = p[1] * q[3];\n",
    "        p[5] = p[0] * q[2];\n",
    "\n",
    "        DCM[0,2] = p[5] + p[4];\n",
    "        DCM[2,0] = p[5] - p[4];\n",
    "        \n",
    "        p[4] = p[0]* q[3];\n",
    "        p[5] = p[1]* q[2];\n",
    "\n",
    "        DCM[1,2] = p[5] - p[4];\n",
    "        DCM[2,1] = p[5] + p[4];\n",
    "        \n",
    "    DCM = DCM.reshape(3,3)\n",
    "    return DCM\n",
    "\n"
   ]
  },
  {
   "cell_type": "code",
   "execution_count": 33,
   "metadata": {},
   "outputs": [
    {
     "name": "stdout",
     "output_type": "stream",
     "text": [
      "[[-0.17164616  0.82835384  0.        ]\n",
      " [ 0.82835384  0.17164616  0.        ]\n",
      " [ 0.          0.         -0.65670767]]\n",
      "[[ 3.02000e-04  9.99698e-01  0.00000e+00]\n",
      " [ 9.99698e-01  3.02000e-04  0.00000e+00]\n",
      " [ 0.00000e+00  0.00000e+00 -9.99396e-01]]\n",
      "[[ 7.15632485e-01 -3.62587187e-18  0.00000000e+00]\n",
      " [-3.62587187e-18  7.15632485e-01  0.00000000e+00]\n",
      " [ 0.00000000e+00  0.00000000e+00  4.31264969e-01]]\n",
      "[[9.99396182e-01 6.03817592e-04 0.00000000e+00]\n",
      " [6.03817592e-04 9.99396182e-01 0.00000000e+00]\n",
      " [0.00000000e+00 0.00000000e+00 9.98792365e-01]]\n"
     ]
    }
   ],
   "source": [
    "q_test = np.array([0.707, 0.707,0,0]).reshape(4,1)\n",
    "v_test = np.array([1,0,0]).reshape(3,1);\n",
    "\n",
    "DCM_nraw = q2dcm(q_test)\n",
    "DCM_raw = q2dcm(q_test, True)\n",
    "\n",
    "print(DCM_nraw)\n",
    "print(DCM_raw )\n",
    "\n",
    "\n",
    "print(np.dot(DCM_nraw,DCM_nraw.T))\n",
    "print(np.dot(DCM_raw,DCM_raw.T) )"
   ]
  },
  {
   "cell_type": "code",
   "execution_count": null,
   "metadata": {},
   "outputs": [],
   "source": [
    "#Test for a rotation about z of 90°\n",
    "\n",
    "\n",
    "dcm_test = q2dcm(q_test)\n",
    "print(dcm_test)\n",
    "v_test_rot = np.dot(dcm_test , v_test)\n",
    "\n",
    "print(v_test_rot,v_test_rot.shape, np.linalg.norm(v_test_rot))"
   ]
  },
  {
   "cell_type": "code",
   "execution_count": 84,
   "metadata": {},
   "outputs": [
    {
     "data": {
      "text/plain": [
       "array([[0., 0., 0.],\n",
       "       [0., 0., 0.],\n",
       "       [0., 0., 1.]])"
      ]
     },
     "execution_count": 84,
     "metadata": {},
     "output_type": "execute_result"
    }
   ],
   "source": [
    "C = np.zeros((3,3))\n",
    "C[2,2] = 1\n",
    "C"
   ]
  },
  {
   "cell_type": "markdown",
   "metadata": {},
   "source": [
    "____________________________________________________________________\n",
    "## Governing Equations\n",
    "\n",
    "$state  \\rightarrow \\mathbf{x} $\n",
    " \n",
    " $\\mathbf{x} = \\{p_x, p_y, p_z,v_x, v_y, v_z, q_x, q_y, q_z, q_w\\}^T $  , $ \\mathbf{x} \\in \\mathbb{R}^{10}$\n",
    "\n",
    "\n",
    "$ measurement(IMU) \\rightarrow \\mathbf{\\tilde{u}}$  \n",
    "\n",
    "$ \\mathbf{\\tilde{u}}= \\{a_x, a_y, a_z, \\omega_x,\\omega_y,\\omega_z\\}^T \\triangleq \\{ \\mathbf{s}, \\boldsymbol{\\omega}\\} $, $ \\mathbf{\\tilde{u}} \\in\\mathbb{R}^{6} $    </br>\n",
    "\n",
    "*accelerometers are meant to detect external accelerations (and rotations) in the Body refence frame ($\\mathcal{B}$).<br> Obviously GPS will provide any position information in an absolute reference frame:* ($\\mathcal{N}$)\n",
    "\n",
    "*where:*\n",
    "$ \\mathbf{v} \\lvert_{\\mathcal{N}} =  \\mathbf{R}^n_b (\\mathbf{q})   \\mathbf{v} \\lvert_{\\mathcal{B}}$\n",
    "\n",
    "\n",
    "1. $\\mathbf{p_k} = \\mathbf{p_{k-1}} + T_s \\mathbf{v_{k-1}} + (T_s^2) [ \\mathbf{R_b^n}(\\mathbf{q_{k-1}})\\mathbf{s_{k-1}} - \\mathbf{g}]$ *(position in $\\mathcal{N}$ reference frame)*\n",
    "\n",
    "<br>\n",
    "\n",
    "2. $\\mathbf{v_k} = \\mathbf{v_{k-1}} + (T_s) [ \\mathbf{R_b^n}(\\mathbf{q_{k-1}})\\mathbf{s_{k-1}} - \\mathbf{g} ] $ *(velocity in $\\mathcal{N}$ reference frame)*\n",
    "\n",
    "<br>\n",
    "\n",
    "3. $\\mathbf{q_k} =  [ cos(\\frac{1}{2} \\frac{T_s}{\\lvert\\lvert \\boldsymbol{\\omega} \\lvert\\lvert^2}) \\mathbf{I_4} +sin(\\frac{1}{2} \\frac{T_s}{\\lvert\\lvert \\boldsymbol{\\omega} \\lvert\\lvert^2}) \\boldsymbol{\\Omega_k}] \\mathbf{q_{k-1}} $ \n",
    "   \n",
    "   (*quaternion's kinematic. **NB**: this quaternions are the ones for rotation: $\\mathcal{B} \\rightarrow \\mathcal{N}$*)\n",
    "\n",
    "*where* $\\boldsymbol{\\Omega_k} = \\left[\\begin{array} {c,c,c,c}\n",
    "                                         0 ,\\omega_z , -\\omega_y , \\omega_x \\\\\n",
    "                                        -\\omega_z , 0 , \\omega_x , \\omega_y \\\\\n",
    "                                        \\omega_y , -\\omega_x , 0 , \\omega_z \\\\\n",
    "                                        -\\omega_x , -\\omega_y , -\\omega_z ,0 \n",
    "                                        \\end{array} \\right]$\n",
    "        \n",
    " *and* $\\mathbf{R_b^n}(\\mathbf{q}) = \\left[\\begin{array} {c,c,c}\n",
    "                                           q_w^{2}+ q_x^2− q_y^2 − q_z^2, ... ,.. \\\\\n",
    "                                           ..., ... , ... \\\\\n",
    "                                           ..., ...., ...\n",
    "                                             \\end{array} \\right]$\n",
    "                                             \n",
    " $\\tiny{refer to here: http://www.tu-berlin.de/fileadmin/fg169/miscellaneous/Quaternions.pdf}$\n",
    "\n",
    "\n",
    "\n",
    "##### Key-Point: \n",
    "*IMU sensor model is modeled as the sum of a bias error measurement following a \"random-walk-dynamic\" and an uncorrelated white noise.*\n",
    "\n",
    "$ \\mathbf{\\tilde{u}} = \\mathbf{u} - \\mathbf{\\delta u}_k + \\mathbf{w}^{(1)}$\n",
    "<br> *where*<br>\n",
    "     $ \\mathbf{\\delta u}_k = \\mathbf{\\delta u}_{k-1} + \\mathbf{w}^{(2)} $\n",
    "____________________________________________________________________"
   ]
  },
  {
   "cell_type": "code",
   "execution_count": 48,
   "metadata": {},
   "outputs": [
    {
     "name": "stdout",
     "output_type": "stream",
     "text": [
      "[[ 1.00100002]\n",
      " [ 1.00104998]\n",
      " [ 0.        ]\n",
      " [ 0.10000302]\n",
      " [ 0.10999698]\n",
      " [ 0.        ]\n",
      " [ 0.70695581]\n",
      " [ 0.70695581]\n",
      " [ 0.00706985]\n",
      " [-0.02120956]]\n",
      "(10, 1)\n"
     ]
    }
   ],
   "source": [
    "def gravity(x):\n",
    "    #\n",
    "    g_0 = np.array([0,0,-9.81]).reshape(3,1)\n",
    "    return g_0\n",
    "\n",
    "def navEq(x,u,dt):\n",
    "    ### traslation\n",
    "    pv = x[:6]\n",
    "    q = x[6:]\n",
    "    A = np.eye(6)\n",
    "    \n",
    "    A[0,3] = dt\n",
    "    A[1,4] = dt\n",
    "    A[2,5] = dt #here implements simple integrator: x[t] = x[t-1] + vx * dt\n",
    "    \n",
    "    f_t = np.dot(q2dcm(q),u[:3])\n",
    "    acc_t = f_t - gravity(x)\n",
    "    \n",
    "    B = np.concatenate((np.eye(3,3) * dt**2/2,np.eye(3,3) * dt))\n",
    "    \n",
    "    x_pv = np.dot(A,x[:6])+ np.dot(B,f_t)\n",
    "    \n",
    "    ### rotation\n",
    "    w_t = u[3:]\n",
    "    P = w_t[0] * dt\n",
    "    Q = w_t[1] * dt\n",
    "    R = w_t[2] * dt\n",
    "    \n",
    "    \n",
    "    OMEGA = np.array([[0, R, -Q, P],\n",
    "                      [-R, 0, P, Q],\n",
    "                      [Q, -P, 0, R],\n",
    "                      [-P, -Q, -R, 0]])\n",
    "    \n",
    "    V = np.linalg.norm(w_t) * dt\n",
    "    \n",
    "    x_rot = np.dot(np.cos(V/2) * np.eye(4) + 2/V * np.sin(V/2) * OMEGA ,x[6:])\n",
    "    \n",
    "    x = np.zeros((10,1))\n",
    "    x[:6] = x_pv\n",
    "    x[6:] = x_rot\n",
    "    \n",
    "    return x\n",
    "\n",
    "### Test\n",
    "x_test = np.array([1,1,0,0.1,0.1,0,q_test[0],q_test[1],q_test[2],q_test[3]]).reshape(10,1)\n",
    "u_test = np.array([1,0,0,1,2,0]).reshape(6,1)\n",
    "x_test_t = navEq(x_test,u_test,dt)\n",
    "print(x_test_t)\n",
    "print(x_test_t.shape)"
   ]
  },
  {
   "cell_type": "markdown",
   "metadata": {},
   "source": [
    "____________________________________________________________________\n",
    "\n",
    "## State-Space Equations\n",
    "\n",
    "*Instead of filetering the proper system's dynamic (which can always be filtered separately), the current implementation apply the filter to errors dynamic.*\n",
    "\n",
    "$ \\mathbf{z}_k = \\{\\mathbf{\\delta x}, \\mathbf{\\delta u}\\} \\in \\mathbb{R}^{15} $\n",
    "\n",
    "where:\n",
    "\n",
    "$ \\mathbf{\\delta x} = \\mathbf{\\hat{x}} - \\mathbf{x} $ (*estimated - true*),\n",
    "<!-- $\\mathbf{\\delta u} = \\mathbf{\\hat{u}} - \\mathbf{u} $-->\n",
    "\n",
    "\n",
    "<img src=\"./Loosely_coupled_Kf.png\"/>\n",
    "\n",
    "____________________________________________________________________\n"
   ]
  },
  {
   "cell_type": "code",
   "execution_count": 71,
   "metadata": {},
   "outputs": [
    {
     "name": "stdout",
     "output_type": "stream",
     "text": [
      "(15, 15)\n",
      "(15, 12)\n",
      "(array([[1.01],\n",
      "       [1.01],\n",
      "       [1.01],\n",
      "       [1.02999698],\n",
      "       [1.0199969800000002],\n",
      "       [0.97001812],\n",
      "       [0.98],\n",
      "       [0.98],\n",
      "       [1.0199879200000002],\n",
      "       [1.01],\n",
      "       [1.01],\n",
      "       [1.01],\n",
      "       [1.01],\n",
      "       [1.01],\n",
      "       [1.01]], dtype=object), (15, 1))\n"
     ]
    }
   ],
   "source": [
    "def state_space_model(x,u,Ts):\n",
    "    q = x[6:]\n",
    "    Rb2n = q2dcm(q)\n",
    "    \n",
    "    #hate numpy => need to specify float for each element\n",
    "    for i in range(0,3):\n",
    "        for j in range(0,3):\n",
    "            Rb2n[i,j] = float(Rb2n[i,j])\n",
    "            \n",
    "    # rotate accelerometer(s) measurement in absolute frame\n",
    "    f_n = np.dot(Rb2n,u[:3])\n",
    "    # Submatrix implementing: [Rb2n * fn]X ( skew matrix)\n",
    "    Sn = np.array([[0 ,float(-f_n[2]), float(f_n[1])],\n",
    "                    [float(f_n[2]), 0, float(-f_n[0])],\n",
    "                    [float(-f_n[1]), float(f_n[0]), 0]])\n",
    "    \n",
    "    \n",
    "    O = np.zeros((3,3))\n",
    "    I = np.eye(3,3)\n",
    "    \n",
    "    #F = np.zeros((15,15))\n",
    "    Rb2n = Rb2n.reshape((3,3))\n",
    "    Fc = np.block([[O, I ,  O,     O,    O],\n",
    "                   [O, O,  Sn,  Rb2n,    O],\n",
    "                   [O, O,  O,      O,-Rb2n],\n",
    "                   [O, O ,  O,     O,    O],\n",
    "                   [O, O ,  O,     O,    O]])#size 15 X 15\n",
    "    \n",
    "    F = np.eye(15,15) + Ts * Fc\n",
    "    \n",
    "    G= Ts*np.block([[ O  ,  O , O ,O],\n",
    "                    [ Rb2n ,O , O ,O],\n",
    "                    [ O, -Rb2n, O ,O],\n",
    "                    [ O,   O  , I ,O],\n",
    "                    [ O,   O  , O ,I ]])#size 15 X 12\n",
    "    \n",
    "    \n",
    "    \n",
    "    return F,G\n",
    "    \n",
    "\n",
    "F_test, G_test = state_space_model(x_test,u_test,Ts)\n",
    "\n",
    "dz_test = np.ones((15,1))\n",
    "w_test = np.ones((12,1))\n",
    "dz_test_t = np.dot(F_test,dz_test) + np.dot(G_test,w_test)\n",
    "print(dz_test_t, dz_test.shape)"
   ]
  },
  {
   "cell_type": "markdown",
   "metadata": {},
   "source": [
    "## Sensors' data \n",
    "*create lookup tables*"
   ]
  },
  {
   "cell_type": "code",
   "execution_count": 84,
   "metadata": {},
   "outputs": [
    {
     "data": {
      "text/plain": [
       "['/Users/teobaiguera/Documents/Study/Kalman_Cpp/python/../GPSaidedIMU/ACC_data.csv',\n",
       " '/Users/teobaiguera/Documents/Study/Kalman_Cpp/python/../GPSaidedIMU/GNSS_data.csv']"
      ]
     },
     "execution_count": 84,
     "metadata": {},
     "output_type": "execute_result"
    }
   ],
   "source": [
    "# Load the .mat file:\n",
    "files = os.listdir(os.getcwd()+'/../GPSaidedIMU')\n",
    "in_data = [os.getcwd()+'/../GPSaidedIMU/' + f   for f in files  if \".csv\" in f ]\n",
    "mats = [os.getcwd()+'/../GPSaidedIMU/' + f   for f in files  if \".mat\" in f ]\n",
    "\n",
    "mats\n",
    "in_data\n"
   ]
  },
  {
   "cell_type": "code",
   "execution_count": 70,
   "metadata": {},
   "outputs": [
    {
     "name": "stdout",
     "output_type": "stream",
     "text": [
      "<type 'dict'>\n"
     ]
    }
   ],
   "source": [
    "gps_data = mat['']"
   ]
  },
  {
   "cell_type": "code",
   "execution_count": 152,
   "metadata": {},
   "outputs": [],
   "source": [
    "class SensorData:\n",
    "    delimiter = \",\"\n",
    "\n",
    "    def __init__(self,datafile_,name):\n",
    "        self.__data = np.loadtxt(datafile_, delimiter = SensorData.delimiter)\n",
    "        self.__time = self.__data[:,0]\n",
    "        self.__readings = self.__data[:,1:]\n",
    "        \n",
    "        self.name = name\n",
    "        self.tmax = self.__time[-1];\n",
    "        \n",
    "    def __getitem__(self, t):\n",
    "        if t < self.__time[-1]  and  t > 0:\n",
    "            time_idx = np.array([ idx for idx,tt in enumerate(self.__time) if tt < t])\n",
    "        \n",
    "            return self.__readings[time_idx[-1]]\n",
    "        else:\n",
    "            return None\n",
    "        \n",
    "    def gettime(self):\n",
    "        return self.__time\n",
    "    \n",
    "    def getdata(self):\n",
    "        return self.__data\n",
    "        \n",
    "            \n",
    "       "
   ]
  },
  {
   "cell_type": "code",
   "execution_count": 157,
   "metadata": {},
   "outputs": [
    {
     "data": {
      "text/plain": [
       "array([ 0.002452,  0.00622 , -0.000287])"
      ]
     },
     "execution_count": 157,
     "metadata": {},
     "output_type": "execute_result"
    }
   ],
   "source": [
    "accelerometer = SensorData(os.getcwd()+'/../GPSaidedIMU/ACC_data.csv',\"accelerometer\")\n",
    "accelerometer[3]"
   ]
  },
  {
   "cell_type": "code",
   "execution_count": 160,
   "metadata": {},
   "outputs": [
    {
     "data": {
      "text/plain": [
       "array([-5.57011842e-01,  1.16415322e-10, -1.43800003e+00])"
      ]
     },
     "execution_count": 160,
     "metadata": {},
     "output_type": "execute_result"
    }
   ],
   "source": [
    "gyroscope = SensorData(os.getcwd()+'/../GPSaidedIMU/GYRO_data.csv',\"accelerometer\")\n",
    "gnss = SensorData(os.getcwd()+'/../GPSaidedIMU/GNSS_data.csv',\"accelerometer\")\n",
    "\n",
    "gnss[4]"
   ]
  },
  {
   "cell_type": "code",
   "execution_count": null,
   "metadata": {},
   "outputs": [],
   "source": []
  }
 ],
 "metadata": {
  "kernelspec": {
   "display_name": "Python 3",
   "language": "python",
   "name": "python3"
  },
  "language_info": {
   "codemirror_mode": {
    "name": "ipython",
    "version": 2
   },
   "file_extension": ".py",
   "mimetype": "text/x-python",
   "name": "python",
   "nbconvert_exporter": "python",
   "pygments_lexer": "ipython2",
   "version": "2.7.16"
  }
 },
 "nbformat": 4,
 "nbformat_minor": 2
}
