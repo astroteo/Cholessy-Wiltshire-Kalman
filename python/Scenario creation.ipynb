{
 "cells": [
  {
   "cell_type": "code",
   "execution_count": 1,
   "metadata": {},
   "outputs": [],
   "source": [
    "from stl import mesh\n",
    "import numpy as np\n",
    "from IPython.display import clear_output\n",
    "from multiprocessing.pool import ThreadPool"
   ]
  },
  {
   "cell_type": "markdown",
   "metadata": {},
   "source": [
    "### Reshaping .stl (s) "
   ]
  },
  {
   "cell_type": "code",
   "execution_count": 2,
   "metadata": {},
   "outputs": [
    {
     "ename": "NameError",
     "evalue": "name 'stl' is not defined",
     "output_type": "error",
     "traceback": [
      "\u001b[0;31m---------------------------------------------------------------------------\u001b[0m",
      "\u001b[0;31mNameError\u001b[0m                                 Traceback (most recent call last)",
      "\u001b[0;32m<ipython-input-2-faed2db07543>\u001b[0m in \u001b[0;36m<module>\u001b[0;34m()\u001b[0m\n\u001b[1;32m      3\u001b[0m     \u001b[0mlro_mesh\u001b[0m\u001b[0;34m.\u001b[0m\u001b[0mvectors\u001b[0m\u001b[0;34m[\u001b[0m\u001b[0mi\u001b[0m\u001b[0;34m]\u001b[0m \u001b[0;34m=\u001b[0m  \u001b[0mlro_mesh\u001b[0m\u001b[0;34m.\u001b[0m\u001b[0mvectors\u001b[0m\u001b[0;34m[\u001b[0m\u001b[0mi\u001b[0m\u001b[0;34m]\u001b[0m\u001b[0;34m/\u001b[0m\u001b[0;36m10\u001b[0m\u001b[0;34m\u001b[0m\u001b[0m\n\u001b[1;32m      4\u001b[0m \u001b[0;34m\u001b[0m\u001b[0m\n\u001b[0;32m----> 5\u001b[0;31m \u001b[0mlro_mesh\u001b[0m\u001b[0;34m.\u001b[0m\u001b[0msave\u001b[0m\u001b[0;34m(\u001b[0m\u001b[0;34m'../CADs/LRO_35_reduced.stl'\u001b[0m\u001b[0;34m,\u001b[0m \u001b[0mmode\u001b[0m\u001b[0;34m=\u001b[0m\u001b[0mstl\u001b[0m\u001b[0;34m.\u001b[0m\u001b[0mMode\u001b[0m\u001b[0;34m.\u001b[0m\u001b[0mASCII\u001b[0m\u001b[0;34m)\u001b[0m  \u001b[0;31m# save as ASCII\u001b[0m\u001b[0;34m\u001b[0m\u001b[0m\n\u001b[0m",
      "\u001b[0;31mNameError\u001b[0m: name 'stl' is not defined"
     ]
    }
   ],
   "source": [
    "lro_mesh = mesh.Mesh.from_file('../CADs/LRO_35.stl')\n",
    "for i, _ in enumerate(lro_mesh.vectors):\n",
    "    lro_mesh.vectors[i] =  lro_mesh.vectors[i]/10\n",
    "    \n",
    "lro_mesh.save('../CADs/LRO_35_reduced.stl', mode=stl.Mode.ASCII)  # save as ASCII"
   ]
  },
  {
   "cell_type": "markdown",
   "metadata": {},
   "source": [
    "### Obstacle modeling\n",
    "\n",
    "##### 1.  Load ISS point-cloud [ Obtained through CloudCompare]\n",
    "##### 2. Assign control volume with grid size\n",
    "##### 3. For all points in the control volume assign  {1 -> Occupied ,0-> Free}\n",
    "##### 4.  save to .csv for path-planning algorithm development"
   ]
  },
  {
   "cell_type": "code",
   "execution_count": 2,
   "metadata": {},
   "outputs": [
    {
     "name": "stdout",
     "output_type": "stream",
     "text": [
      "(171204, 3, 3)\n"
     ]
    }
   ],
   "source": [
    "iss_mesh = mesh.Mesh.from_file('../CADs/Assembled_ISS.stl')\n",
    "print(iss_mesh.vectors.shape)"
   ]
  },
  {
   "cell_type": "code",
   "execution_count": 3,
   "metadata": {},
   "outputs": [
    {
     "data": {
      "text/plain": [
       "(171204,)"
      ]
     },
     "execution_count": 3,
     "metadata": {},
     "output_type": "execute_result"
    }
   ],
   "source": [
    "iss_mesh.vectors[:,0,0].shape"
   ]
  },
  {
   "cell_type": "code",
   "execution_count": 4,
   "metadata": {},
   "outputs": [
    {
     "name": "stdout",
     "output_type": "stream",
     "text": [
      "('max dims:', 58.64746, 24.784914, 55.6514)\n",
      "('min dims:', -25.899393, -18.903086, -55.6514)\n",
      "(16.374034881591797, 2.9409141540527344, 0.0)\n",
      "111.3028\n"
     ]
    }
   ],
   "source": [
    "# Get iss sizes and approximate it as a cube\n",
    "max_x, max_y, max_z = max(iss_mesh.vectors[:,0,0]), max(iss_mesh.vectors[:,0,1]), max(iss_mesh.vectors[:,0,2])\n",
    "min_x, min_y, min_z = min(iss_mesh.vectors[:,0,0]), min(iss_mesh.vectors[:,0,1]), min(iss_mesh.vectors[:,0,2])\n",
    "\n",
    "print(\"max dims:\",max_x,max_y, max_z)\n",
    "print(\"min dims:\",min_x,min_y, min_z)\n",
    "\n",
    "# center\n",
    "cx,cy,cz = (max_x + min_x)/2,(max_y + min_y)/2,(max_z + min_z)/2\n",
    "cube_side = max([(max_x - min_x),(max_y - min_y),(max_z - min_z)])\n",
    "\n",
    "print(cx,cy,cz)\n",
    "print(cube_side)"
   ]
  },
  {
   "cell_type": "code",
   "execution_count": 90,
   "metadata": {},
   "outputs": [
    {
     "name": "stdout",
     "output_type": "stream",
     "text": [
      "(100219, 3)\n",
      "0.005099019513593094\n"
     ]
    },
    {
     "data": {
      "text/plain": [
       "array([[6.064, 0.434, 5.768],\n",
       "       [3.222, 1.087, 5.538],\n",
       "       [3.747, 1.719, 5.299]])"
      ]
     },
     "execution_count": 90,
     "metadata": {},
     "output_type": "execute_result"
    }
   ],
   "source": [
    "# Get point-cloud out of mesh and compute minimum distance between 2 consecutive points\n",
    "iss_pcl = np.loadtxt(\"../CADs/iss_pcl.csv\")\n",
    "print(iss_pcl.shape)\n",
    "\n",
    "d_min = 100\n",
    "for i,_ in enumerate(iss_pcl[:-1]):\n",
    "    if np.linalg.norm(iss_pcl[i+1] - iss_pcl[i] ) < d_min:\n",
    "        d_min = np.linalg.norm(iss_pcl[i+1] - iss_pcl[i] )\n",
    "\n",
    "print(d_min)\n",
    "iss_pcl[:3]"
   ]
  },
  {
   "cell_type": "code",
   "execution_count": 91,
   "metadata": {},
   "outputs": [
    {
     "name": "stdout",
     "output_type": "stream",
     "text": [
      "(19683, 100219)\n"
     ]
    }
   ],
   "source": [
    "# define a map size \n",
    "map_size = 4\n",
    "\n",
    "# create control cube \n",
    "x_span = np.linspace(cx - cube_side/2,cx + cube_side/2, int(cube_side /map_size))\n",
    "y_span = np.linspace(cy - cube_side/2,cy + cube_side/2, int(cube_side /map_size))\n",
    "z_span = np.linspace(cz - cube_side/2,cz + cube_side/2, int(cube_side /map_size))\n",
    "\n",
    "cube_points = []\n",
    "\n",
    "# create labeled point-cloud\n",
    "\n",
    "for x in x_span:\n",
    "    for y in y_span:\n",
    "        for z in z_span:\n",
    "            p = np.array([x,y,z]).reshape(3,1)\n",
    "            cube_points.append(p)\n",
    "            \n",
    "           \n",
    "print(len(cube_points),\n",
    "      len(iss_pcl))"
   ]
  },
  {
   "cell_type": "markdown",
   "metadata": {},
   "source": [
    "```\n",
    "#benchmark\n",
    "cube_points = cube_points[2 * len(cube_points)/3: 2*len(cube_points)/3+1000]\n",
    "print(len(cube_points))\n",
    "```\n"
   ]
  },
  {
   "cell_type": "code",
   "execution_count": 92,
   "metadata": {},
   "outputs": [],
   "source": [
    "cp_t1 = cube_points[:int(len(cube_points)/4)]\n",
    "cp_t2 = cube_points[int(len(cube_points)/4):int(2*len(cube_points)/4)]\n",
    "cp_t3 = cube_points[int(2*len(cube_points)/4):int(3*len(cube_points)/4)]\n",
    "cp_t4 = cube_points[int(3* len(cube_points)/4):]\n",
    "\n",
    "assert(len(cp_t1)+len(cp_t2)+len(cp_t3)+len(cp_t4) == len(cube_points))\n",
    "\n",
    "def process_cube_points(cube_points, thread_name):\n",
    "    pctg = 0\n",
    "    iss_points = []\n",
    "    free_points = []\n",
    "    \n",
    "    for ip,p in enumerate(cube_points):\n",
    "        occupancy_flag = False\n",
    "        for p_iss in iss_pcl:\n",
    "            if np.linalg.norm(p - p_iss) < 1 * np.sqrt(2) * map_size:#1*np.sqrt(2)* map_size\n",
    "                iss_points.append(p.reshape(1,3).tolist()[0])\n",
    "                occupancy_flag = True\n",
    "                #print('bk' + thread_name)\n",
    "                break\n",
    "\n",
    "        if not occupancy_flag:\n",
    "            free_points.append(p.reshape(1,3).tolist()[0])\n",
    "            \n",
    "        if( float(ip)/len(cube_points) * 100 > pctg ):\n",
    "            clear_output()\n",
    "            print(str(pctg) +\"% points evaluated by \" + thread_name)\n",
    "            print(\"#-iss points:\" + str(len(iss_points)))\n",
    "            pctg += 1\n",
    "            \n",
    "    print(\"DONE FOR THREAD:\" + thread_name)\n",
    "    return [iss_points, free_points]\n",
    "    \n",
    "\n"
   ]
  },
  {
   "cell_type": "code",
   "execution_count": 93,
   "metadata": {},
   "outputs": [
    {
     "name": "stdout",
     "output_type": "stream",
     "text": [
      "3% points evaluated by &&&\n",
      "#-iss points:4\n",
      "DONE FOR THREAD:&&&\n"
     ]
    },
    {
     "data": {
      "text/plain": [
       "[[[30, 0, 0], [0, 0, 10], [0, 1, 0], [2, 15, 0]], [[200, 0, 0]]]"
      ]
     },
     "execution_count": 93,
     "metadata": {},
     "output_type": "execute_result"
    }
   ],
   "source": [
    "#test on random center-points\n",
    "process_cube_points([np.array([30,0,0]),np.array([0,0,10]),np.array([0,1,0]),np.array([2,15,0]),np.array([200,0,0])],\"&&&\")"
   ]
  },
  {
   "cell_type": "code",
   "execution_count": 94,
   "metadata": {},
   "outputs": [
    {
     "name": "stdout",
     "output_type": "stream",
     "text": [
      "99% points evaluated by t4\n",
      "#-iss points:0\n",
      "DONE FOR THREAD:t1\n",
      "DONE FOR THREAD:t3\n",
      "DONE FOR THREAD:t4\n"
     ]
    }
   ],
   "source": [
    "pool = ThreadPool(processes=16)\n",
    "\n",
    "\n",
    "r1 =  pool.apply_async(process_cube_points,(cp_t1,'t1',))\n",
    "r2 =  pool.apply_async(process_cube_points,(cp_t2,'t2',))\n",
    "r3 =  pool.apply_async(process_cube_points,(cp_t3,'t3',))\n",
    "r4 =  pool.apply_async(process_cube_points,(cp_t4,'t4',))\n",
    "\n",
    "\n",
    "rs1 = r1.get()\n",
    "rs2 = r2.get()\n",
    "rs3 = r3.get()\n",
    "rs4 = r4.get()"
   ]
  },
  {
   "cell_type": "code",
   "execution_count": 100,
   "metadata": {},
   "outputs": [
    {
     "name": "stdout",
     "output_type": "stream",
     "text": [
      "[]\n"
     ]
    }
   ],
   "source": [
    "print(rs1[0])"
   ]
  },
  {
   "cell_type": "code",
   "execution_count": 101,
   "metadata": {},
   "outputs": [],
   "source": [
    "iss_points_ = []\n",
    "free_points_ = []\n",
    "\n",
    "t_results = [rs1,rs2,rs3,rs4]\n",
    "\n",
    "for r in t_results:\n",
    "    ips = r[0]\n",
    "    fps = r[1]\n",
    "    for ip in ips:\n",
    "        iss_points_.append(ip)\n",
    "    for fp in fps:\n",
    "        free_points_.append(fp)\n",
    "    "
   ]
  },
  {
   "cell_type": "code",
   "execution_count": 102,
   "metadata": {},
   "outputs": [
    {
     "name": "stdout",
     "output_type": "stream",
     "text": [
      "(6, 3)\n",
      "(19677, 3)\n"
     ]
    }
   ],
   "source": [
    "iss_points = np.array(iss_points_).reshape(len(iss_points_),3)\n",
    "free_points = np.array(free_points_).reshape(len(free_points_),3)\n",
    "\n",
    "print iss_points.shape\n",
    "print free_points.shape\n",
    "\n",
    "np.savetxt('../MAPs/iss_map_res_'+str(map_size) +'m.csv', iss_points, delimiter=',')\n",
    "np.savetxt('../MAPs/free_map_res_'+str(map_size) +'m.csv', free_points, delimiter=',')"
   ]
  },
  {
   "cell_type": "code",
   "execution_count": null,
   "metadata": {},
   "outputs": [],
   "source": [
    "iss_map = np.array([0,0,0,1])\n",
    "\n",
    "for ip in iss_points:\n",
    "     np.concatenate(np.array([float(ip[0]),float(ip[1]),float(ip[2]),1.])\n",
    "                    \n",
    "for ip in free_points:\n",
    "     np.concatenate(np.array([float(fp[0]),float(fp[1]),float(fp[2]),1.])\n",
    "                    \n",
    "\n",
    "    "
   ]
  }
 ],
 "metadata": {
  "kernelspec": {
   "display_name": "Python 2",
   "language": "python",
   "name": "python2"
  },
  "language_info": {
   "codemirror_mode": {
    "name": "ipython",
    "version": 2
   },
   "file_extension": ".py",
   "mimetype": "text/x-python",
   "name": "python",
   "nbconvert_exporter": "python",
   "pygments_lexer": "ipython2",
   "version": "2.7.16"
  }
 },
 "nbformat": 4,
 "nbformat_minor": 2
}
