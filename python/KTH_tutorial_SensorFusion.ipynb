{
 "cells": [
  {
   "cell_type": "code",
   "execution_count": 5,
   "metadata": {},
   "outputs": [],
   "source": [
    "import numpy as np"
   ]
  },
  {
   "cell_type": "code",
   "execution_count": 6,
   "metadata": {},
   "outputs": [],
   "source": [
    "# Define constants \n",
    "Ts = 0.01\n",
    "gravity = 9.81\n",
    "\n",
    "dt = Ts"
   ]
  },
  {
   "cell_type": "code",
   "execution_count": 7,
   "metadata": {},
   "outputs": [
    {
     "name": "stdout",
     "output_type": "stream",
     "text": [
      "[[ 3.02000e-04  9.99698e-01  0.00000e+00]\n",
      " [ 9.99698e-01  3.02000e-04  0.00000e+00]\n",
      " [ 0.00000e+00  0.00000e+00 -9.99396e-01]]\n",
      "(array([[3.02000e-04],\n",
      "       [9.99698e-01],\n",
      "       [0.00000e+00]]), (3, 1), 0.9996980456157748)\n"
     ]
    }
   ],
   "source": [
    "def q2dcm(q):\n",
    "    \n",
    "    qx = q[0]\n",
    "    qy = q[1]\n",
    "    qz = q[2]\n",
    "    qw = q[3]\n",
    "    \n",
    "    DCM = np.array([\n",
    "                     [1- 2*qz*qz- 2*qy*qy,- 2* qz*qw+2*qy*qx,2*qy*qw +2* qz*qx],\n",
    "                     [2*qx*qy+ 2*qw*qz,1 - 2*qz*qz - 2*qx*qx,2*qz*qy- 2*qx*qw],\n",
    "                     [2*qx*qz- 2*qw*qy,2*qy*qz + 2*qw*qx,1- 2*qy*qy- 2*qx*qx]\n",
    "                    ])\n",
    "    DCM = DCM.reshape(3,3)\n",
    "    return DCM\n",
    "\n",
    "#Test for a rotation about z of 90°\n",
    "q_test = np.array([0.707, 0.707,0,0]).reshape(4,1)\n",
    "v_test = np.array([1,0,0]).reshape(3,1);\n",
    "\n",
    "dcm_test = q2dcm(q_test)\n",
    "print(dcm_test)\n",
    "v_test_rot = np.dot(dcm_test , v_test)\n",
    "\n",
    "print(v_test_rot,v_test_rot.shape, np.linalg.norm(v_test_rot))"
   ]
  },
  {
   "cell_type": "markdown",
   "metadata": {},
   "source": [
    "state  => x </br>\n",
    "\n",
    "x = {px, py, pz,vx, vy, vz, qx, qy, qz, qw}^T   ==> size(x) = 10 x 1\n",
    "\n",
    "\n",
    "control => u </br>\n",
    "\n",
    "u = {Fx, Fy, Fz, Tx,Ty,Tz}^T"
   ]
  },
  {
   "cell_type": "code",
   "execution_count": 8,
   "metadata": {},
   "outputs": [
    {
     "name": "stdout",
     "output_type": "stream",
     "text": [
      "[[ 1.00100002]\n",
      " [ 1.00104998]\n",
      " [ 0.        ]\n",
      " [ 0.10000302]\n",
      " [ 0.10999698]\n",
      " [ 0.        ]\n",
      " [ 0.70695581]\n",
      " [ 0.70695581]\n",
      " [ 0.00706985]\n",
      " [-0.02120956]]\n"
     ]
    }
   ],
   "source": [
    "def gravity(x):\n",
    "    #\n",
    "    g_0 = np.array([0,0,-9.81]).reshape(3,1)\n",
    "    return g_0\n",
    "\n",
    "def navEq(x,u,dt):\n",
    "    ### traslation\n",
    "    pv = x[:6]\n",
    "    q = x[6:]\n",
    "    A = np.eye(6)\n",
    "    \n",
    "    A[0,3] = dt\n",
    "    A[1,4] = dt\n",
    "    A[2,5] = dt #here implements simple integrator: x[t] = x[t-1] + vx * dt\n",
    "    \n",
    "    f_t = np.dot(q2dcm(q),u[:3])\n",
    "    acc_t = f_t - gravity(x)\n",
    "    \n",
    "    B = np.concatenate((np.eye(3,3) * dt**2/2,np.eye(3,3) * dt))\n",
    "    \n",
    "    x_pv = np.dot(A,x[:6])+ np.dot(B,f_t)\n",
    "    \n",
    "    ### rotation\n",
    "    w_t = u[3:]\n",
    "    P = w_t[0] * dt\n",
    "    Q = w_t[1] * dt\n",
    "    R = w_t[2] * dt\n",
    "    \n",
    "    \n",
    "    OMEGA = np.array([[0, R, -Q, P],\n",
    "                      [-R, 0, P, Q],\n",
    "                      [Q, -P, 0, R],\n",
    "                      [-P, -Q, -R, 0]])\n",
    "    \n",
    "    V = np.linalg.norm(w_t) * dt\n",
    "    \n",
    "    x_rot = np.dot(np.cos(V/2) * np.eye(4) + 2/V * np.sin(V/2) * OMEGA ,x[6:])\n",
    "    \n",
    "    x = np.zeros((10,1))\n",
    "    x[:6] = x_pv\n",
    "    x[6:] = x_rot\n",
    "    \n",
    "    return x\n",
    "\n",
    "### Test\n",
    "x_test = np.array([1,1,0,0.1,0.1,0,q_test[0],q_test[1],q_test[2],q_test[3]]).reshape(10,1)\n",
    "u_test = np.array([1,0,0,1,2,0]).reshape(6,1)\n",
    "x_test_t = navEq(x_test,u_test,dt)\n",
    "print(x_test_t)"
   ]
  },
  {
   "cell_type": "code",
   "execution_count": null,
   "metadata": {},
   "outputs": [],
   "source": []
  }
 ],
 "metadata": {
  "kernelspec": {
   "display_name": "Python 3",
   "language": "python",
   "name": "python3"
  },
  "language_info": {
   "codemirror_mode": {
    "name": "ipython",
    "version": 2
   },
   "file_extension": ".py",
   "mimetype": "text/x-python",
   "name": "python",
   "nbconvert_exporter": "python",
   "pygments_lexer": "ipython2",
   "version": "2.7.16"
  }
 },
 "nbformat": 4,
 "nbformat_minor": 2
}
