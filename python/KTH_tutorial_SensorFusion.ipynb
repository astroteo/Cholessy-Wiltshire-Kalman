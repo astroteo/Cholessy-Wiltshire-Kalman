{
 "cells": [
  {
   "cell_type": "markdown",
   "metadata": {},
   "source": [
    "# Loosely Coupled Sensor Fusion.\n",
    "## IMU + GNSS for quadrotor dynamic"
   ]
  },
  {
   "cell_type": "code",
   "execution_count": 183,
   "metadata": {},
   "outputs": [],
   "source": [
    "import numpy as np\n",
    "import scipy.io as scyIO \n",
    "import os\n",
    "import matplotlib.pyplot as plt"
   ]
  },
  {
   "cell_type": "code",
   "execution_count": 184,
   "metadata": {},
   "outputs": [],
   "source": [
    "# Define constants \n",
    "Ts = 0.01\n",
    "gravity = 9.81\n",
    "\n",
    "dt = Ts"
   ]
  },
  {
   "cell_type": "code",
   "execution_count": 185,
   "metadata": {},
   "outputs": [],
   "source": [
    "def q2dcm(q,_raw = False):\n",
    "    \n",
    "   #Function for transformation from quaternions to directional cosine matrix\n",
    "   #Farell pp.41\n",
    "   #Edit: MAtteo\n",
    "\n",
    "    qx = float(q[0])\n",
    "    qy = float(q[1])\n",
    "    qz = float(q[2])\n",
    "    qw = float(q[3])\n",
    "    \n",
    "    if _raw:\n",
    "        DCM = np.array([[1 - 2*qy**2 - 2*qz**2,2*qx*qy - 2*qz*qw,2*qx*qz + 2*qy*qw],\n",
    "                        [2*qx*qy + 2*qz*qw,1 - 2*qx**2 - 2*qz**2,2*qy*qz - 2*qx*qw],\n",
    "                        [2*qx*qz - 2*qy*qw,2*qy*qz + 2*qx*qw,1 - 2*qx**2 - 2*qy**2]\n",
    "                        ])#.T ????\n",
    "    else:\n",
    "        p = np.array([qx**2,qy**2,qz**2,qw**2,qy + qz,0])\n",
    "        \n",
    "        if p[0]+p[3]+p[4] <= -1e12 or p[0]+p[3]+p[4] >= -1e12:\n",
    "            p[5]=2/(p[0] + p[3]+p[4]) \n",
    "        else:\n",
    "            p[5]=0\n",
    "    \n",
    "        DCM =np.zeros((3,3))\n",
    "        \n",
    "        DCM[0,0] = 1 - p[5] * p[4]\n",
    "        DCM[1,1] = 1 - p[5] * (p[0]+p[2])\n",
    "        DCM[2,2] = 1 - p[5] * (p[0]+p[1])\n",
    "        \n",
    "        p[0] = p[5] * q[0]; \n",
    "        p[1] = p[5] * q[1];\n",
    "        p[4] = p[5] * q[2] * q[3];\n",
    "        p[5] = p[0] * q[1];\n",
    "        \n",
    "        \n",
    "        DCM[0,1] = p[5] - p[4];\n",
    "        DCM[1,0] = p[5] + p[4];\n",
    "        \n",
    "        p[4] = p[1] * q[3];\n",
    "        p[5] = p[0] * q[2];\n",
    "\n",
    "        DCM[0,2] = p[5] + p[4];\n",
    "        DCM[2,0] = p[5] - p[4];\n",
    "        \n",
    "        p[4] = p[0]* q[3];\n",
    "        p[5] = p[1]* q[2];\n",
    "\n",
    "        DCM[1,2] = p[5] - p[4];\n",
    "        DCM[2,1] = p[5] + p[4];\n",
    "        \n",
    "    DCM = DCM.reshape(3,3)\n",
    "    return DCM\n",
    "\n"
   ]
  },
  {
   "cell_type": "code",
   "execution_count": 186,
   "metadata": {},
   "outputs": [
    {
     "name": "stdout",
     "output_type": "stream",
     "text": [
      "[[-0.17164616  0.82835384  0.        ]\n",
      " [ 0.82835384  0.17164616  0.        ]\n",
      " [ 0.          0.         -0.65670767]]\n",
      "[[ 3.02000e-04  9.99698e-01  0.00000e+00]\n",
      " [ 9.99698e-01  3.02000e-04  0.00000e+00]\n",
      " [ 0.00000e+00  0.00000e+00 -9.99396e-01]]\n",
      "[[ 7.15632485e-01 -3.62587187e-18  0.00000000e+00]\n",
      " [-3.62587187e-18  7.15632485e-01  0.00000000e+00]\n",
      " [ 0.00000000e+00  0.00000000e+00  4.31264969e-01]]\n",
      "[[9.99396182e-01 6.03817592e-04 0.00000000e+00]\n",
      " [6.03817592e-04 9.99396182e-01 0.00000000e+00]\n",
      " [0.00000000e+00 0.00000000e+00 9.98792365e-01]]\n"
     ]
    }
   ],
   "source": [
    "q_test = np.array([0.707, 0.707,0,0]).reshape(4,1)\n",
    "v_test = np.array([1,0,0]).reshape(3,1);\n",
    "\n",
    "DCM_nraw = q2dcm(q_test)\n",
    "DCM_raw = q2dcm(q_test, True)\n",
    "\n",
    "print(DCM_nraw)\n",
    "print(DCM_raw )\n",
    "\n",
    "\n",
    "print(np.dot(DCM_nraw,DCM_nraw.T))\n",
    "print(np.dot(DCM_raw,DCM_raw.T) )"
   ]
  },
  {
   "cell_type": "code",
   "execution_count": 187,
   "metadata": {},
   "outputs": [
    {
     "name": "stdout",
     "output_type": "stream",
     "text": [
      "[[-0.17164616  0.82835384  0.        ]\n",
      " [ 0.82835384  0.17164616  0.        ]\n",
      " [ 0.          0.         -0.65670767]]\n",
      "[[-0.17164616]\n",
      " [ 0.82835384]\n",
      " [ 0.        ]] (3, 1) 0.8459506396538023\n"
     ]
    }
   ],
   "source": [
    "#Test for a rotation about z of 90°\n",
    "\n",
    "\n",
    "dcm_test = q2dcm(q_test)\n",
    "print(dcm_test)\n",
    "v_test_rot = np.dot(dcm_test , v_test)\n",
    "\n",
    "print(v_test_rot,v_test_rot.shape, np.linalg.norm(v_test_rot))"
   ]
  },
  {
   "cell_type": "markdown",
   "metadata": {},
   "source": [
    "____________________________________________________________________\n",
    "## Governing Equations\n",
    "\n",
    "$state  \\rightarrow \\mathbf{x} $\n",
    " \n",
    " $\\mathbf{x} = \\{p_x, p_y, p_z,v_x, v_y, v_z, q_x, q_y, q_z, q_w\\}^T $  , $ \\mathbf{x} \\in \\mathbb{R}^{10}$\n",
    "\n",
    "\n",
    "$ measurement(IMU) \\rightarrow \\mathbf{\\tilde{u}}$  \n",
    "\n",
    "$ \\mathbf{\\tilde{u}}= \\{a_x, a_y, a_z, \\omega_x,\\omega_y,\\omega_z\\}^T \\triangleq \\{ \\mathbf{s}, \\boldsymbol{\\omega}\\} $, $ \\mathbf{\\tilde{u}} \\in\\mathbb{R}^{6} $    </br>\n",
    "\n",
    "*accelerometers are meant to detect external accelerations (and rotations) in the Body refence frame ($\\mathcal{B}$).<br> Obviously GPS will provide any position information in an absolute reference frame:* ($\\mathcal{N}$)\n",
    "\n",
    "*where:*\n",
    "$ \\mathbf{v} \\lvert_{\\mathcal{N}} =  \\mathbf{R}^n_b (\\mathbf{q})   \\mathbf{v} \\lvert_{\\mathcal{B}}$\n",
    "\n",
    "\n",
    "1. $\\mathbf{p_k} = \\mathbf{p_{k-1}} + T_s \\mathbf{v_{k-1}} + (T_s^2) [ \\mathbf{R_b^n}(\\mathbf{q_{k-1}})\\mathbf{s_{k-1}} - \\mathbf{g}]$ *(position in $\\mathcal{N}$ reference frame)*\n",
    "\n",
    "<br>\n",
    "\n",
    "2. $\\mathbf{v_k} = \\mathbf{v_{k-1}} + (T_s) [ \\mathbf{R_b^n}(\\mathbf{q_{k-1}})\\mathbf{s_{k-1}} - \\mathbf{g} ] $ *(velocity in $\\mathcal{N}$ reference frame)*\n",
    "\n",
    "<br>\n",
    "\n",
    "3. $\\mathbf{q_k} =  [ cos(\\frac{1}{2} \\frac{T_s}{\\lvert\\lvert \\boldsymbol{\\omega} \\lvert\\lvert^2}) \\mathbf{I_4} +sin(\\frac{1}{2} \\frac{T_s}{\\lvert\\lvert \\boldsymbol{\\omega} \\lvert\\lvert^2}) \\boldsymbol{\\Omega_k}] \\mathbf{q_{k-1}} $ \n",
    "   \n",
    "   (*quaternion's kinematic. **NB**: this quaternions are the ones for rotation: $\\mathcal{B} \\rightarrow \\mathcal{N}$*)\n",
    "\n",
    "*where* $\\boldsymbol{\\Omega_k} = \\left[\\begin{array} {c,c,c,c}\n",
    "                                         0 ,\\omega_z , -\\omega_y , \\omega_x \\\\\n",
    "                                        -\\omega_z , 0 , \\omega_x , \\omega_y \\\\\n",
    "                                        \\omega_y , -\\omega_x , 0 , \\omega_z \\\\\n",
    "                                        -\\omega_x , -\\omega_y , -\\omega_z ,0 \n",
    "                                        \\end{array} \\right]$\n",
    "        \n",
    " *and* $\\mathbf{R_b^n}(\\mathbf{q}) = \\left[\\begin{array} {c,c,c}\n",
    "                                           q_w^{2}+ q_x^2− q_y^2 − q_z^2, ... ,.. \\\\\n",
    "                                           ..., ... , ... \\\\\n",
    "                                           ..., ...., ...\n",
    "                                             \\end{array} \\right]$\n",
    "                                             \n",
    " $\\small{refer \\quad to : \\text{http://www.tu-berlin.de/fileadmin/fg169/miscellaneous/Quaternions.pdf}}$\n",
    "\n",
    "**NOTE:** *implemented algortithm avoid singularity*: $q_x^{2} + q_w^{2} + q_x-q_w = 0$\n",
    "\n",
    "##### Key-Point: \n",
    "*IMU sensor model is modeled as the sum of a bias error measurement following a \"random-walk-dynamic\".*\n",
    "\n",
    "$ \\mathbf{\\tilde{u}} = \\mathbf{u} - \\mathbf{\\delta u}_k + \\mathbf{w}^{(1)}$\n",
    "<br> *where*<br>\n",
    "     $ \\mathbf{\\delta u}_k = \\mathbf{\\delta u}_{k-1} + \\mathbf{w}^{(2)} $\n",
    "     \n",
    "     \n",
    "  *Moreover $\\mathbf{w}^{(1)}$ and $\\mathbf{w}^{(2)}$ are uncorrelated with covariance matrices: $\\mathbf{Q^{(1)}}, \\mathbf{Q^{(2)}}$respectively*\n",
    "____________________________________________________________________"
   ]
  },
  {
   "cell_type": "code",
   "execution_count": 188,
   "metadata": {},
   "outputs": [
    {
     "name": "stdout",
     "output_type": "stream",
     "text": [
      "[[ 1.00099142]\n",
      " [ 1.00104142]\n",
      " [ 0.        ]\n",
      " [ 0.09828354]\n",
      " [ 0.10828354]\n",
      " [ 0.        ]\n",
      " [ 0.70695581]\n",
      " [ 0.70695581]\n",
      " [ 0.00706985]\n",
      " [-0.02120956]]\n",
      "(10, 1)\n"
     ]
    }
   ],
   "source": [
    "def gravity(x):\n",
    "    #\n",
    "    g_0 = np.array([0,0,-9.81]).reshape(3,1)\n",
    "    return g_0\n",
    "\n",
    "def nav_equations(x,u,dt):\n",
    "    ### traslation\n",
    "    pv = x[:6]\n",
    "    q = x[6:]\n",
    "    A = np.eye(6)\n",
    "    \n",
    "    A[0,3] = dt\n",
    "    A[1,4] = dt\n",
    "    A[2,5] = dt #here implements simple integrator: x[t] = x[t-1] + vx * dt\n",
    "    \n",
    "    f_t = np.dot(q2dcm(q),u[:3])\n",
    "    acc_t = f_t - gravity(x)\n",
    "    \n",
    "    B = np.concatenate((np.eye(3,3) * dt**2/2,np.eye(3,3) * dt))\n",
    "    \n",
    "    x_pv = np.dot(A,x[:6])+ np.dot(B,f_t)\n",
    "    \n",
    "    ### rotation\n",
    "    w_t = u[3:]\n",
    "    P = w_t[0] * dt\n",
    "    Q = w_t[1] * dt\n",
    "    R = w_t[2] * dt\n",
    "    \n",
    "    \n",
    "    OMEGA = np.array([[0, R, -Q, P],\n",
    "                      [-R, 0, P, Q],\n",
    "                      [Q, -P, 0, R],\n",
    "                      [-P, -Q, -R, 0]])\n",
    "    \n",
    "    V = np.linalg.norm(w_t) * dt\n",
    "    \n",
    "    x_rot = np.dot(np.cos(V/2) * np.eye(4) + 2/V * np.sin(V/2) * OMEGA ,x[6:])\n",
    "    \n",
    "    x = np.zeros((10,1))\n",
    "    x[:6] = x_pv\n",
    "    x[6:] = x_rot\n",
    "    \n",
    "    return x\n",
    "\n",
    "### Test\n",
    "x_test = np.array([1,1,0,0.1,0.1,0,q_test[0],q_test[1],q_test[2],q_test[3]]).reshape(10,1)\n",
    "u_test = np.array([1,0,0,1,2,0]).reshape(6,1)\n",
    "x_test_t = navEq(x_test,u_test,dt)\n",
    "print(x_test_t)\n",
    "print(x_test_t.shape)"
   ]
  },
  {
   "cell_type": "markdown",
   "metadata": {},
   "source": [
    "____________________________________________________________________\n",
    "\n",
    "## State-Space Equations\n",
    "\n",
    "*Instead of filetering the proper system's dynamic (which can always be filtered separately), the current implementation apply the filter to errors dynamic.*\n",
    "\n",
    "$ \\mathbf{z}_k = \\{\\mathbf{\\delta x}, \\mathbf{\\delta u}\\} \\in \\mathbb{R}^{15} $\n",
    "    $ \\Rightarrow$\n",
    "$ \\mathbf{z} =\\{\\mathbf{\\delta p_{3 \\times 1}},\n",
    "                \\mathbf{\\delta v_{3 \\times 1}},\n",
    "                \\boldsymbol{\\delta \\epsilon_{3 \\times 1}} \\lvert\n",
    "                \\mathbf{\\delta w^{(1)}_{3 \\times 1}}\n",
    "                \\mathbf{\\delta w^{(2)}_{3 \\times 1}}\\}  $\n",
    "\n",
    "***where***: <br>\n",
    "*1. the minimal attiture representation is kept, replacing quaternions with $\\epsilon$, wich actually is the **small-rotations** difference* \n",
    " \n",
    "$\\boldsymbol{\\delta \\epsilon } \\quad  s.t. \\quad \\exists \\quad \\Gamma (\\mathbf {q}, \\boldsymbol{\\epsilon}) \\triangleq \\{ \\mathbf{q} \\in SO^3 \\quad \\lvert \\quad \\mathbf{R_b^n}(\\mathbf{q}) = [\\mathbf{I_3} - [\\boldsymbol{\\epsilon}]_{\\times} ] \\mathbf{R_b^n}(\\mathbf{\\hat{q}})   \\} $\n",
    "\n",
    "$[\\mathbf{\\epsilon}]_{\\times}=\\left[\\begin{array} {c,c,c}\n",
    "                                           0, \\epsilon_y , -\\epsilon_z \\\\\n",
    "                                           \\epsilon_z, 0 , \\epsilon_x \\\\\n",
    "                                           \\epsilon_x, -\\epsilon_y, 0\n",
    "                                             \\end{array} \\right]$\n",
    "                                             \n",
    "                                             \n",
    "*As the filter computes small (infinitestimal) rotations errors the corrections on quaternions must be performed as follow:*\n",
    "\n",
    "$KF\\quad \\rightarrow \\quad \\boldsymbol{\\delta \\epsilon} \\quad \\rightarrow  \\quad\n",
    "\\mathbf{R_b^n}(\\mathbf{\\hat{q}}) = (\\mathbf{I}_3 - [\\mathbf{\\epsilon}]_{\\times} )\\mathbf{R_b^n}(\\mathbf{q}) \\quad  \\rightarrow \\quad  \\mathbf{\\hat{q}} \\quad \\tiny{\\text{ ( final step to be performed with DCM2q) }} $\n",
    "\n",
    "\n",
    "                                              \n",
    "\n",
    "*2. estimation error:* <br> \n",
    "\n",
    "$ \\mathbf{\\delta x} = \\mathbf{\\hat{x}} - \\mathbf{x} $ \n",
    "( * estimated - true *),\n",
    "<!-- $\\mathbf{\\delta u} = \\mathbf{\\hat{u}} - \\mathbf{u} $-->\n",
    "\n",
    "\n",
    "\n",
    "\n",
    "<img src=\"./Loosely_coupled_Kf.png\"/>\n",
    "\n",
    "\n",
    "**NOTE**: *the filter is going to correct the error relying on GPS measurement, therefore the covariance of observation noise ($\\mathbf{R}$) is equal to the GNSS measurement* \n",
    "\n",
    "________________________________________________________________________\n"
   ]
  },
  {
   "cell_type": "code",
   "execution_count": 189,
   "metadata": {},
   "outputs": [
    {
     "name": "stdout",
     "output_type": "stream",
     "text": [
      "[[1.01      ]\n",
      " [1.01      ]\n",
      " [1.01      ]\n",
      " [1.02141769]\n",
      " [1.02171646]\n",
      " [0.97686585]\n",
      " [0.98686585]\n",
      " [0.98      ]\n",
      " [1.01313415]\n",
      " [1.01      ]\n",
      " [1.01      ]\n",
      " [1.01      ]\n",
      " [1.01      ]\n",
      " [1.01      ]\n",
      " [1.01      ]] (15, 1)\n"
     ]
    }
   ],
   "source": [
    "def state_space_model(x,u,Ts):\n",
    "    q = x[6:]\n",
    "    Rb2n = q2dcm(q)\n",
    "    \n",
    "    #hate numpy => need to specify float for each element\n",
    "    for i in range(0,3):\n",
    "        for j in range(0,3):\n",
    "            Rb2n[i,j] = float(Rb2n[i,j])\n",
    "            \n",
    "    # rotate accelerometer(s) measurement in absolute frame\n",
    "    f_n = np.dot(Rb2n,u[:3])\n",
    "    # Submatrix implementing: [Rb2n * fn]X ( skew matrix)\n",
    "    Sn = np.array([[0 ,float(-f_n[2]), float(f_n[1])],\n",
    "                    [float(f_n[2]), 0, float(-f_n[0])],\n",
    "                    [float(-f_n[1]), float(f_n[0]), 0]])\n",
    "    \n",
    "    \n",
    "    O = np.zeros((3,3))\n",
    "    I = np.eye(3,3)\n",
    "    \n",
    "    #F = np.zeros((15,15))\n",
    "    Rb2n = Rb2n.reshape((3,3))\n",
    "    Fc = np.block([[O, I ,  O,     O,    O],\n",
    "                   [O, O,  Sn,  Rb2n,    O],\n",
    "                   [O, O,  O,      O,-Rb2n],\n",
    "                   [O, O ,  O,     O,    O],\n",
    "                   [O, O ,  O,     O,    O]])#size 15 X 15\n",
    "    \n",
    "    F = np.eye(15,15) + Ts * Fc\n",
    "    \n",
    "    G= Ts*np.block([[ O  ,  O , O ,O],\n",
    "                    [ Rb2n ,O , O ,O],\n",
    "                    [ O, -Rb2n, O ,O],\n",
    "                    [ O,   O  , I ,O],\n",
    "                    [ O,   O  , O ,I ]])#size 15 X 12\n",
    "    \n",
    "    \n",
    "    \n",
    "    return F,G\n",
    "    \n",
    "\n",
    "F_test, G_test = state_space_model(x_test,u_test,Ts)\n",
    "\n",
    "dz_test = np.ones((15,1))\n",
    "w_test = np.ones((12,1))\n",
    "dz_test_t = np.dot(F_test,dz_test) + np.dot(G_test,w_test)\n",
    "print(dz_test_t, dz_test.shape)"
   ]
  },
  {
   "cell_type": "markdown",
   "metadata": {},
   "source": [
    "## Sensors' data \n",
    "*1. Structure sensor(s) data*<br>\n",
    "*2. plot time-series* <br>\n",
    "*2. Fit Covariance*"
   ]
  },
  {
   "cell_type": "code",
   "execution_count": 190,
   "metadata": {},
   "outputs": [
    {
     "data": {
      "text/plain": [
       "['/Users/teobaiguera/Documents/Study/Kalman_Cpp/python/../GPSaidedIMU/ACC_data.csv',\n",
       " '/Users/teobaiguera/Documents/Study/Kalman_Cpp/python/../GPSaidedIMU/GNSS_data.csv',\n",
       " '/Users/teobaiguera/Documents/Study/Kalman_Cpp/python/../GPSaidedIMU/GYRO_data.csv']"
      ]
     },
     "execution_count": 190,
     "metadata": {},
     "output_type": "execute_result"
    }
   ],
   "source": [
    "# Load the .mat file:\n",
    "files = os.listdir(os.getcwd()+'/../GPSaidedIMU')\n",
    "in_data = [os.getcwd()+'/../GPSaidedIMU/' + f   for f in files  if \".csv\" in f ]\n",
    "mats = [os.getcwd()+'/../GPSaidedIMU/' + f   for f in files  if \".mat\" in f ]\n",
    "\n",
    "mats\n",
    "in_data\n"
   ]
  },
  {
   "cell_type": "code",
   "execution_count": 191,
   "metadata": {},
   "outputs": [],
   "source": [
    "class SensorData:\n",
    "    delimiter = \",\"\n",
    "\n",
    "    def __init__(self,datafile_,name):\n",
    "        self.__data = np.loadtxt(datafile_, delimiter = SensorData.delimiter)\n",
    "        self.__time = self.__data[:,0]\n",
    "        self.__readings = self.__data[:,1:]\n",
    "        \n",
    "        self.name = name\n",
    "        self.tmax = self.__time[-1];\n",
    "        \n",
    "        self.Ts = 0\n",
    "        self.Qcov = None\n",
    "        self.last_idx = 0\n",
    "        \n",
    "        for i in range(len(self.__time[1:])):\n",
    "            dt = self.__time[i] - self.__time[i-1]\n",
    "            if dt > self.Ts:\n",
    "                self.Ts = dt\n",
    "            \n",
    "    def __getitem__(self,idx):\n",
    "        try:\n",
    "            assert(idx < len(self.__time))\n",
    "        except IndexError:\n",
    "            \n",
    "            print(\"OUT OF RANGE\")\n",
    "            return None , None\n",
    "        \n",
    "        return self.__readings[idx]\n",
    "    \n",
    "    \n",
    "    def t(self,idx):\n",
    "        \n",
    "        try:\n",
    "            assert(idx < len(self.__time))\n",
    "        except IndexError:\n",
    "            \n",
    "            print(\" TIME OUT OF RANGE\")\n",
    "            return None , None\n",
    "        \n",
    "        return float(self.__time[idx])\n",
    "\n",
    "    def at(self, t):\n",
    "        # Enable Check for GNSS availability\n",
    "        if t < self.__time[-1]  and  t >= self.__time[self.last_idx]:\n",
    "            \n",
    "            time_idx = np.array([ idx for idx,tt in enumerate(self.__time) if tt <= t])\n",
    "            self.last_idx = time_idx[-1]\n",
    "            \n",
    "            return self.__readings[time_idx[-1]]\n",
    "        else:\n",
    "            return None\n",
    "        \n",
    "        \n",
    "    def plot(self):\n",
    "        names = [self.name +'_1', self.name +'_2', self.name +'_3']\n",
    "        plt.plot(self.__time,self.__readings)\n",
    "        plt.legend(names)\n",
    "        plt.xlabel('time(s)')\n",
    "        plt.ylabel('readings')\n",
    "        plt.show()\n",
    "        \n",
    "    def gettime(self):\n",
    "        return self.__time\n",
    "    \n",
    "    def getdata(self):\n",
    "        return self.__readings\n",
    "    \n",
    "    def sigma_fit(self):\n",
    "        print(np.cov(self.__readings))"
   ]
  },
  {
   "cell_type": "code",
   "execution_count": 192,
   "metadata": {},
   "outputs": [
    {
     "name": "stdout",
     "output_type": "stream",
     "text": [
      "[-1.01938165 -0.97581071 -9.89077144]\n",
      "0.0100000000000193\n",
      "[-0.96618058 -0.89743596 -9.78652675]\n"
     ]
    },
    {
     "data": {
      "image/png": "[encoded data removed]",
      "text/plain": [
       "<Figure size 432x288 with 1 Axes>"
      ]
     },
     "metadata": {
      "needs_background": "light"
     },
     "output_type": "display_data"
    }
   ],
   "source": [
    "accelerometer = SensorData(os.getcwd()+'/../GPSaidedIMU/ACC_data.csv',\"accelerometer\")\n",
    "print(accelerometer[31])\n",
    "print(accelerometer.t(1))\n",
    "print(accelerometer.at(1))\n",
    "\n",
    "accelerometer.plot()\n"
   ]
  },
  {
   "cell_type": "code",
   "execution_count": 193,
   "metadata": {},
   "outputs": [
    {
     "name": "stdout",
     "output_type": "stream",
     "text": [
      "OK sensor samples at same time => as they acquire at same time!!\n"
     ]
    },
    {
     "data": {
      "image/png": "[encoded data removed]",
      "text/plain": [
       "<Figure size 432x288 with 1 Axes>"
      ]
     },
     "metadata": {
      "needs_background": "light"
     },
     "output_type": "display_data"
    },
    {
     "data": {
      "image/png": "[encoded data removed]",
      "text/plain": [
       "<Figure size 432x288 with 1 Axes>"
      ]
     },
     "metadata": {
      "needs_background": "light"
     },
     "output_type": "display_data"
    }
   ],
   "source": [
    "gyroscope = SensorData(os.getcwd()+'/../GPSaidedIMU/GYRO_data.csv',\"gyroscope\")\n",
    "gnss = SensorData(os.getcwd()+'/../GPSaidedIMU/GNSS_data.csv',\"gnss\")\n",
    "\n",
    "try:\n",
    "    assert(gyroscope.Ts == accelerometer.Ts )\n",
    "    for g,a in zip(gyroscope.gettime() , accelerometer.gettime()):\n",
    "        assert(g == a)\n",
    "    print(\"OK sensor samples at same time => as they acquire at same time!!\")\n",
    "except:\n",
    "    print(\"no same Ts for accelerometer\")\n",
    "    \n",
    "gnss[3]\n",
    "gnss.plot()\n",
    "gyroscope.plot()"
   ]
  },
  {
   "cell_type": "code",
   "execution_count": 199,
   "metadata": {},
   "outputs": [
    {
     "data": {
      "text/plain": [
       "array([[  1],\n",
       "       [529],\n",
       "       [ 16]])"
      ]
     },
     "execution_count": 199,
     "metadata": {},
     "output_type": "execute_result"
    }
   ],
   "source": [
    "a = np.array([1,23,4])\n",
    "(a**2).reshape(3,1)"
   ]
  },
  {
   "cell_type": "markdown",
   "metadata": {},
   "source": [
    "### Kalman fliter \n",
    "#### Filter is on  sensor(s) error measurement error.\n"
   ]
  },
  {
   "cell_type": "code",
   "execution_count": 272,
   "metadata": {},
   "outputs": [
    {
     "name": "stdout",
     "output_type": "stream",
     "text": [
      "(6, 1)\n"
     ]
    },
    {
     "data": {
      "text/plain": [
       "array([[12,  3],\n",
       "       [ 1,  2]])"
      ]
     },
     "execution_count": 272,
     "metadata": {},
     "output_type": "execute_result"
    }
   ],
   "source": [
    "a = np.zeros((15,1))\n",
    "aa = np.vstack([np.zeros((9,1)),a[9:]])\n",
    "print(a[9:].shape)\n",
    "aa.shape\n",
    "\n",
    "A = np.array([[12,3,4],[1,2,3],[1,2,22],[12,3,4],[1,2,3],[1,2,22]])\n",
    "A[:2,:2]"
   ]
  },
  {
   "cell_type": "code",
   "execution_count": 220,
   "metadata": {},
   "outputs": [],
   "source": [
    "class KalmanFilterLooselyIMUGNNS:\n",
    "    def __init__(self,Q1,Q2,z0,\n",
    "                 p_uncertainty = 10 , v_uncertainty = 5, \n",
    "                 rpy_uncertainty = [np.pi/180.0 * 1.,np.pi/180.0 * 1., np.pi/180.0 * 20.],\n",
    "                 acc_biases = 0.02, gyro_biases = 0.05*np.pi/180,\n",
    "                 gnss_uncertainty =np.sqrt(3)):\n",
    "        \n",
    "        # Measurement (output) matrix, a.k.a filter's observation matrix ( from GNSS)\n",
    "            #=>  H s.t. y_k -y_GNSS_k =  p_gps - p_estimate = delta_y = H * z_k + ek\n",
    "        O = np.zeros((3,3))\n",
    "        self.H = np.hstack([np.eye(3),O,O,O,O])\n",
    "        assert(self.H.shape == (3,15))\n",
    "        \n",
    "        # measurement covariance:\n",
    "        self.R = (gnss_uncertainty**2) * np.eye(3)\n",
    "        \n",
    "        # Process covariance:\n",
    "        self.Q1 = Q1\n",
    "        self.Q2 = Q2\n",
    "        \n",
    "        O1 = np.zeros((self.Q1.shape[0],self.Q2.shape[1] ))\n",
    "        O2 = np.zeros((self.Q2.shape[0],self.Q1.shape[1] ))\n",
    "                      \n",
    "        self.Q = np.array([[self.Q1,O1],\n",
    "                           [O2,self.Q2]]).reshape((self.Q1.shape[0]+self.Q2.shape[0], \n",
    "                                              self.Q1.shape[1]+ self.Q2.shape[1] ))\n",
    "        \n",
    "        #Filter state:\n",
    "        self.z = z0\n",
    "        #Filter state-covariance: \n",
    "            # !! As rpy_uncertainty is approximated to small angles  \n",
    "            # => epsilon = rpy_uncertainty\n",
    "            \n",
    "        p = np.vstack([(p_uncertainty**2) * np.ones((3,1)), \n",
    "                       (v_uncertainty**2) * np.ones((3,1)),\n",
    "                       (np.array(rpy_uncertainty)**2).reshape((3,1)),\n",
    "                       (acc_biases**2) * np.ones((3,1)),\n",
    "                       (gyro_biases**2) * np.ones((3,1))])\n",
    "    \n",
    "        print(p.shape)\n",
    "        assert(p.shape == (15,1))\n",
    "        \n",
    "        self.P = np.eye(15) * p \n",
    "        assert(self.P.shape == (15,15))\n",
    "        \n",
    "        \n",
    "        #Init gain to null\n",
    "        self.K = None\n",
    "                      \n",
    "                      \n",
    "                      \n",
    "    \n",
    "    #As F,G depend on the state => \n",
    "    def predict(self,F,G):\n",
    "        #% P=F*P*F'+G*blkdiag(Q1,Q2)*G';\n",
    "        self.P = np.dot(F , np.dot(self.P , F.T) ) + np.dot(G , np.dot(self.Q,G.T))\n",
    "\n",
    "    def compute_gain(self,F,G):\n",
    "        #%K=(P*H')/(H*P*H'+R);\n",
    "        self.K = np.dot(np.dot(np.dot(self.P,self.H.T), \n",
    "                        np.inv(np.dot(self.H, np.dot(self.P, self.H.T)) + self.R)))\n",
    "        \n",
    "    def update(self,delta_u_h,y,x ):\n",
    "        #% z=[zeros(9,1); delta_u_h]+K*(y-H(:,1:6)*x_h(1:6));\n",
    "        #% P=(eye(15)-K*H)*P;\n",
    "        z_ = np.vstack(np.zeros((9,1)), self.z[9:])# Keep only sensor's biases\n",
    "        \n",
    "        #?? WTF: try to avoid this step ?? \n",
    "        H_ = self.H[:6,:6]#remove attitude observation\n",
    "        x_ = x[:6]#remove quaternions\n",
    "        \n",
    "        \n",
    "        self.z = z_ +  np.dot(K,(y - np.dot(H_,x_)))\n",
    "        self.P = np.dot((np.eye(15) - np.dot(self.K,self.H)), self.P)\n",
    "        \n",
    "        pass\n",
    "        \n",
    "        \n",
    "        \n",
    "        \n",
    "        \n",
    "    "
   ]
  },
  {
   "cell_type": "code",
   "execution_count": 235,
   "metadata": {},
   "outputs": [],
   "source": [
    "delta_u_h = np.zeros((6,1))\n",
    "z0 = np.concatenate([np.zeros((9,1)), delta_u_h])"
   ]
  },
  {
   "cell_type": "code",
   "execution_count": 236,
   "metadata": {},
   "outputs": [
    {
     "name": "stdout",
     "output_type": "stream",
     "text": [
      "(15, 1)\n"
     ]
    }
   ],
   "source": [
    "#Q are provided by literature (tutorial)\n",
    "sigma_acc = 0.05; #% [m/s^2]\n",
    "sigma_gyro = 0.1*np.pi/180; #% [rad/s]\n",
    "sigma_acc_bias = 0.0001; #% [m/s^2.5]\n",
    "sigma_gyro_bias = 0.01*np.pi/180; #% [rad/s^1.5]\n",
    "\n",
    "q1_acc = sigma_acc* np.ones((3,1))\n",
    "q1_gyro = sigma_gyro * np.ones((3,1))\n",
    "q1 = np.concatenate((q1_acc, q1_gyro))\n",
    "Q_1 = np.eye(6) * q1\n",
    "\n",
    "q2_acc = sigma_acc_bias* np.ones((3,1))\n",
    "q2_gyro = sigma_gyro_bias * np.ones((3,1))\n",
    "q2 = np.concatenate((q2_acc, q2_gyro))\n",
    "\n",
    "Q_2 = np.eye(6) * q2\n",
    "\n",
    "delta_u_h = np.zeros((6,1))\n",
    "z0 = np.concatenate((np.zeros((9,1)), delta_u_h))\n",
    "\n",
    "kf = KalmanFilterLooselyIMUGNNS(Q_1,Q_2, )\n",
    "\n",
    "\n"
   ]
  },
  {
   "cell_type": "markdown",
   "metadata": {},
   "source": [
    "### Program"
   ]
  },
  {
   "cell_type": "code",
   "execution_count": 222,
   "metadata": {},
   "outputs": [],
   "source": [
    "t_spn_acc = len(accelerometer.gettime())\n",
    "t_spn_gyro = len(gyroscope.gettime())\n",
    "t_spn_gnss = len(gnss.gettime())\n",
    "t_spn = max(t_spn_acc, t_spn_gyro, t_spn_gnss)"
   ]
  },
  {
   "cell_type": "code",
   "execution_count": 223,
   "metadata": {},
   "outputs": [],
   "source": [
    "# Init: current time\n",
    "t_imu_k_ = 0\n",
    "\n",
    "# Init:  IMU bias calibration\n",
    "\n",
    "u = np.concatenate((accelerometer[0],gyroscope[0])).reshape(6,1)\n",
    "\n",
    "#Init: state & buffer-state\n",
    "q_h =  np.array([0.0214 ,-0.0539,-0.3399,0.9387]).reshape(4,1)\n",
    "x_h = np.concatenate(( np.zeros((6,1)), q_h )).reshape(10,1)\n",
    "x_spn = np.zeros((t_spn,10))\n",
    "\n",
    "\n",
    "for k in range(1,t_spn):\n",
    "    \n",
    "    # Get (current) sampling time\n",
    "    assert(gyroscope.t(k) == accelerometer.t(k))\n",
    "    t_imu_k = accelerometer.t(k)\n",
    "    Ts = t_imu_k - t_imu_k_\n",
    "    \n",
    "    t_imu_k_ = t_imu_k\n",
    "    \n",
    "    # Calibrate sensor's bias model\n",
    "        # according to sensor's model: du = u - du \n",
    "        # u_h -> calibrated, u -> raw \n",
    "        # delta_u_h -> obtained from kalman-filter on s.s. model\n",
    "    u_h = u - delta_u_h\n",
    "    assert(u_h.shape == (6,1))\n",
    "    \n",
    "    # Update-step: propagate navigation equation\n",
    "    assert(x_h.shape == (10,1))\n",
    "    x_h = nav_equations(x_h, u_h, Ts)\n",
    "    \n",
    "    # Get State-Space model => error(s) dynamic propagation:\n",
    "    F,G = state_space_model(x_h, u_h,Ts)\n",
    "    assert(F.shape == (15,15) and G.shape == (15,12))\n",
    "    \n",
    "    \n",
    "    #Predict covariance\n",
    "    kf.predict_covariance(F,G)\n",
    "    \n",
    "    #\n",
    "    \n",
    "    \n",
    "    "
   ]
  },
  {
   "cell_type": "code",
   "execution_count": null,
   "metadata": {},
   "outputs": [],
   "source": []
  }
 ],
 "metadata": {
  "kernelspec": {
   "display_name": "Python 3",
   "language": "python",
   "name": "python3"
  },
  "language_info": {
   "codemirror_mode": {
    "name": "ipython",
    "version": 3
   },
   "file_extension": ".py",
   "mimetype": "text/x-python",
   "name": "python",
   "nbconvert_exporter": "python",
   "pygments_lexer": "ipython3",
   "version": "3.7.4"
  }
 },
 "nbformat": 4,
 "nbformat_minor": 2
}
